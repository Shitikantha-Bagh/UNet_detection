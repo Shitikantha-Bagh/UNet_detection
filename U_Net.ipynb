{
 "cells": [
  {
   "cell_type": "code",
   "execution_count": 20,
   "metadata": {},
   "outputs": [],
   "source": [
    "import os\n",
    "import datetime\n",
    "import tensorflow as tf\n",
    "from tensorflow import keras\n",
    "from keras.layers import(Flatten,Dense,Reshape,Conv2D,MaxPool2D,Conv2DTranspose,concatenate)\n",
    "from keras.models import Sequential\n",
    "import matplotlib as plt\n",
    "import cv2\n",
    "import numpy as np"
   ]
  },
  {
   "cell_type": "code",
   "execution_count": 18,
   "metadata": {},
   "outputs": [],
   "source": [
    "def Dataloader() :\n",
    "    images =[]\n",
    "    masks =[]\n",
    "\n",
    "    path = \"/home/carl/Downloads/detection/datasets/trainset_March_10\"\n",
    "\n",
    "    file = os.listdir(path)\n",
    "    print(\"file=\",file)\n",
    "    for folder_name in os.listdir(path):\n",
    "        folder_path = os.path.join(path,folder_name)\n",
    "        if os.path.isdir(folder_path):\n",
    "            for filename in os.listdir(folder_path):\n",
    "                if \"_labelids_1024x512.png\" in filename:\n",
    "                    mask_path = os.path.join(folder_path,filename)\n",
    "                elif \"image_1024x512.png\" in filename:\n",
    "                    image_path = os.path.join(folder_path,filename)\n",
    "                \n",
    "                if os.path.exists(image_path):\n",
    "                    image = cv2.imread(image_path)\n",
    "                \n",
    "                if os.path.exists(mask_path):\n",
    "                    mask = cv2.imread(mask_path,cv2.IMREAD_GRAYSCALE)\n",
    "                \n",
    "                images.append(image)\n",
    "                masks.append(mask)\n",
    "    images = np.array(images)\n",
    "    masks = np.array(masks)\n",
    "\n",
    "    return images,masks\n",
    "\n",
    "\n",
    "                            \n",
    "\n",
    "        \n"
   ]
  },
  {
   "cell_type": "code",
   "execution_count": 14,
   "metadata": {},
   "outputs": [
    {
     "name": "stdout",
     "output_type": "stream",
     "text": [
      "file= ['raw_images']\n"
     ]
    }
   ],
   "source": [
    "images,masks = Dataloader()"
   ]
  },
  {
   "cell_type": "code",
   "execution_count": null,
   "metadata": {},
   "outputs": [],
   "source": [
    "# Preprocessing\n",
    "images = images.astype(\"float32\")/255\n",
    "masks = masks.astype(\"float32\")/255\n"
   ]
  },
  {
   "cell_type": "code",
   "execution_count": null,
   "metadata": {},
   "outputs": [],
   "source": [
    "images.shape\n",
    "masks.shape"
   ]
  },
  {
   "cell_type": "code",
   "execution_count": 23,
   "metadata": {},
   "outputs": [],
   "source": [
    "def unet_model(input_shape):\n",
    "   \n",
    "    model = Sequential()\n",
    "\n",
    "    #Encoder\n",
    "    model.add(Conv2D(64,3,activation=\"relu\",padding=\"same\",input_shape=input_shape))\n",
    "    model.add(Conv2D(64,3,activation=\"relu\",padding=\"same\"))\n",
    "    model.add(MaxPool2D(pool_size=(2,2)))\n",
    "\n",
    "    model.add(Conv2D(128,3,activation=\"relu\",padding=\"same\"))\n",
    "    model.add(Conv2D(128,3,activation=\"relu\",padding=\"same\"))\n",
    "    model.add(MaxPool2D(pool_size=(2,2)))\n",
    "\n",
    "    model.add(Conv2D(256,3,activation=\"relu\",padding=\"same\"))\n",
    "    model.add(Conv2D(256,3,activation=\"relu\",padding=\"same\"))\n",
    "    model.add(MaxPool2D(pool_size=(2,2)))\n",
    "\n",
    "    #Middle\n",
    "\n",
    "    model.add(Conv2D(512,3,activation=\"relu\",padding=\"same\"))\n",
    "    model.add(Conv2D(512,3,activation=\"relu\",padding=\"same\"))\n",
    "    \n",
    "    #Decoder\n",
    "\n",
    "    model.add(Conv2DTranspose(256,(2,2),strides=(2,2),padding=\"same\"))\n",
    "    \n",
    "    model.add(Conv2D(256,3,activation=\"relu\",padding=\"same\"))\n",
    "    model.add(Conv2D(256,3,activation=\"relu\",padding=\"same\"))\n",
    "    model.add(concatenate(axis=3))\n",
    "\n",
    "\n",
    "    model.add(Conv2DTranspose(128,(2,2),strides=(2,2),padding=\"same\"))\n",
    "    model.add(Conv2D(128,3,activation=\"relu\",padding=\"same\"))\n",
    "    model.add(Conv2D(128,3,activation=\"relu\",padding=\"same\"))\n",
    "    model.add(concatenate(axis=3))\n",
    "\n",
    "\n",
    "    model.add(Conv2DTranspose(64,(2,2),strides=(2,2),padding=\"same\"))\n",
    "    model.add(Conv2D(64,3,activation=\"relu\",padding=\"same\"))\n",
    "    model.add(Conv2D(64,3,activation=\"relu\",padding=\"same\"))\n",
    "    model.add(concatenate(axis=3))\n",
    "\n",
    "    #output\n",
    "\n",
    "    model.add(Conv2D(1,1,activation=\"sigmoid\"))\n",
    "\n",
    "    model.compile(optimizer=\"adam\",loss=\"binary_crossentropy\",metrics=['accuracy'])\n",
    "\n",
    "    return model\n",
    "\n",
    "    \n",
    "\n",
    "\n",
    "\n",
    "\n",
    "\n"
   ]
  },
  {
   "cell_type": "code",
   "execution_count": 24,
   "metadata": {},
   "outputs": [
    {
     "ename": "TypeError",
     "evalue": "concatenate() missing 1 required positional argument: 'inputs'",
     "output_type": "error",
     "traceback": [
      "\u001b[0;31m---------------------------------------------------------------------------\u001b[0m",
      "\u001b[0;31mTypeError\u001b[0m                                 Traceback (most recent call last)",
      "\u001b[0;32m<ipython-input-24-fc14450ae91e>\u001b[0m in \u001b[0;36m<module>\u001b[0;34m\u001b[0m\n\u001b[1;32m      1\u001b[0m \u001b[0minput_shape\u001b[0m \u001b[0;34m=\u001b[0m \u001b[0;34m(\u001b[0m\u001b[0;36m256\u001b[0m\u001b[0;34m,\u001b[0m\u001b[0;36m256\u001b[0m\u001b[0;34m,\u001b[0m\u001b[0;36m3\u001b[0m\u001b[0;34m)\u001b[0m\u001b[0;34m\u001b[0m\u001b[0;34m\u001b[0m\u001b[0m\n\u001b[0;32m----> 2\u001b[0;31m \u001b[0mmodel\u001b[0m \u001b[0;34m=\u001b[0m \u001b[0munet_model\u001b[0m\u001b[0;34m(\u001b[0m\u001b[0minput_shape\u001b[0m\u001b[0;34m)\u001b[0m\u001b[0;34m\u001b[0m\u001b[0;34m\u001b[0m\u001b[0m\n\u001b[0m\u001b[1;32m      3\u001b[0m \u001b[0mmodel\u001b[0m\u001b[0;34m.\u001b[0m\u001b[0msummary\u001b[0m\u001b[0;34m\u001b[0m\u001b[0;34m\u001b[0m\u001b[0m\n",
      "\u001b[0;32m<ipython-input-23-ce63cbea0406>\u001b[0m in \u001b[0;36munet_model\u001b[0;34m(input_shape)\u001b[0m\n\u001b[1;32m     27\u001b[0m     \u001b[0mmodel\u001b[0m\u001b[0;34m.\u001b[0m\u001b[0madd\u001b[0m\u001b[0;34m(\u001b[0m\u001b[0mConv2D\u001b[0m\u001b[0;34m(\u001b[0m\u001b[0;36m256\u001b[0m\u001b[0;34m,\u001b[0m\u001b[0;36m3\u001b[0m\u001b[0;34m,\u001b[0m\u001b[0mactivation\u001b[0m\u001b[0;34m=\u001b[0m\u001b[0;34m\"relu\"\u001b[0m\u001b[0;34m,\u001b[0m\u001b[0mpadding\u001b[0m\u001b[0;34m=\u001b[0m\u001b[0;34m\"same\"\u001b[0m\u001b[0;34m)\u001b[0m\u001b[0;34m)\u001b[0m\u001b[0;34m\u001b[0m\u001b[0;34m\u001b[0m\u001b[0m\n\u001b[1;32m     28\u001b[0m     \u001b[0mmodel\u001b[0m\u001b[0;34m.\u001b[0m\u001b[0madd\u001b[0m\u001b[0;34m(\u001b[0m\u001b[0mConv2D\u001b[0m\u001b[0;34m(\u001b[0m\u001b[0;36m256\u001b[0m\u001b[0;34m,\u001b[0m\u001b[0;36m3\u001b[0m\u001b[0;34m,\u001b[0m\u001b[0mactivation\u001b[0m\u001b[0;34m=\u001b[0m\u001b[0;34m\"relu\"\u001b[0m\u001b[0;34m,\u001b[0m\u001b[0mpadding\u001b[0m\u001b[0;34m=\u001b[0m\u001b[0;34m\"same\"\u001b[0m\u001b[0;34m)\u001b[0m\u001b[0;34m)\u001b[0m\u001b[0;34m\u001b[0m\u001b[0;34m\u001b[0m\u001b[0m\n\u001b[0;32m---> 29\u001b[0;31m     \u001b[0mmodel\u001b[0m\u001b[0;34m.\u001b[0m\u001b[0madd\u001b[0m\u001b[0;34m(\u001b[0m\u001b[0mconcatenate\u001b[0m\u001b[0;34m(\u001b[0m\u001b[0maxis\u001b[0m\u001b[0;34m=\u001b[0m\u001b[0;36m3\u001b[0m\u001b[0;34m)\u001b[0m\u001b[0;34m)\u001b[0m\u001b[0;34m\u001b[0m\u001b[0;34m\u001b[0m\u001b[0m\n\u001b[0m\u001b[1;32m     30\u001b[0m \u001b[0;34m\u001b[0m\u001b[0m\n\u001b[1;32m     31\u001b[0m \u001b[0;34m\u001b[0m\u001b[0m\n",
      "\u001b[0;31mTypeError\u001b[0m: concatenate() missing 1 required positional argument: 'inputs'"
     ]
    }
   ],
   "source": [
    "input_shape = (256,256,3)\n",
    "model = unet_model(input_shape)\n",
    "model.summary"
   ]
  }
 ],
 "metadata": {
  "kernelspec": {
   "display_name": "venv",
   "language": "python",
   "name": "python3"
  },
  "language_info": {
   "codemirror_mode": {
    "name": "ipython",
    "version": 3
   },
   "file_extension": ".py",
   "mimetype": "text/x-python",
   "name": "python",
   "nbconvert_exporter": "python",
   "pygments_lexer": "ipython3",
   "version": "3.6.9"
  },
  "orig_nbformat": 4
 },
 "nbformat": 4,
 "nbformat_minor": 2
}
